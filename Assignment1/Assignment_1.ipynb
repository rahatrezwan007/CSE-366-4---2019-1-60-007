{
  "nbformat": 4,
  "nbformat_minor": 0,
  "metadata": {
    "colab": {
      "provenance": []
    },
    "kernelspec": {
      "name": "python3",
      "display_name": "Python 3"
    },
    "language_info": {
      "name": "python"
    }
  },
  "cells": [
    {
      "cell_type": "markdown",
      "source": [
        "**Assignment-1: Enhanced Dynamic Robot Movement Simulation**"
      ],
      "metadata": {
        "id": "hC6g6T-J6VV2"
      }
    },
    {
      "cell_type": "code",
      "source": [
        "import numpy as np\n",
        "import matplotlib.pyplot as plt\n",
        "from collections import deque\n",
        "import heapq\n",
        "\n",
        "class PriorityQueue:\n",
        "    def __init__(self):\n",
        "        self.elements = []\n",
        "\n",
        "    def empty(self):\n",
        "        return len(self.elements) == 0\n",
        "\n",
        "    def put(self, item, priority):\n",
        "        heapq.heappush(self.elements, (priority, item))\n",
        "\n",
        "    def get(self):\n",
        "        return heapq.heappop(self.elements)[1]\n",
        "\n",
        "\n",
        "# Node Class represents a state in the search tree.\n",
        "class Node:\n",
        "    def __init__(self, state, parent=None, action=None, path_cost=0):\n",
        "        self.state = state  # The current position of the agent in the grid.\n",
        "        self.parent = parent  # The node in the search tree that generated this node.\n",
        "        self.action = action  # The action taken to get to this state.\n",
        "        self.path_cost = path_cost  # Cost from the start node to this node.\n",
        "\n",
        "    # Comparison operator for priority queue.\n",
        "    def __lt__(self, other):\n",
        "        return self.path_cost < other.path_cost\n"
      ],
      "metadata": {
        "id": "iTFcWD1f7cgk"
      },
      "execution_count": 2,
      "outputs": []
    },
    {
      "cell_type": "code",
      "source": [
        "def heuristic(a, b):\n",
        "    \"\"\"\n",
        "    Calculate the Manhattan distance between two points a and b.\n",
        "\n",
        "    Parameters:\n",
        "    - a: Tuple representing the x and y coordinates of point a (e.g., (x1, y1))\n",
        "    - b: Tuple representing the x and y coordinates of point b (e.g., (x2, y2))\n",
        "\n",
        "    Returns:\n",
        "    - The Manhattan distance between points a and b.\n",
        "    \"\"\"\n",
        "    (x1, y1) = a\n",
        "    (x2, y2) = b\n",
        "    return abs(x1 - x2) + abs(y1 - y2)\n"
      ],
      "metadata": {
        "id": "ppYXyDGh7tTA"
      },
      "execution_count": 3,
      "outputs": []
    },
    {
      "cell_type": "markdown",
      "source": [
        "***Env***"
      ],
      "metadata": {
        "id": "oFG1tMF_7z2m"
      }
    },
    {
      "cell_type": "code",
      "source": [
        "# Environment Class represents the grid and handles state transitions.\n",
        "class Environment:\n",
        "    def __init__(self, grid, start, goal):\n",
        "        self.grid = grid  # The grid layout where 1 represents an obstacle and 0 is free space.\n",
        "        self.initial = start  # Starting position of the agent.\n",
        "        self.goal = goal  # Goal position the agent aims to reach.\n",
        "        self.battery_level = 100  # Battery level starts at 100%\n",
        "        self.recharge_count = 0  # Initialize recharge count to 0.\n",
        "\n",
        "\n",
        "\n",
        "    # Returns the possible actions from a given state.\n",
        "    def actions(self, state):\n",
        "        possible_actions = ['UP', 'DOWN', 'LEFT', 'RIGHT']\n",
        "        x, y = state\n",
        "\n",
        "        # Remove impossible actions based on grid boundaries and obstacles.\n",
        "        if x == 0 or self.grid[x - 1][y] == 1:\n",
        "            possible_actions.remove('UP')\n",
        "        if x == len(self.grid) - 1 or self.grid[x + 1][y] == 1:\n",
        "            possible_actions.remove('DOWN')\n",
        "        if y == 0 or self.grid[x][y - 1] == 1:\n",
        "            possible_actions.remove('LEFT')\n",
        "        if y == len(self.grid[0]) - 1 or self.grid[x][y + 1] == 1:\n",
        "            possible_actions.remove('RIGHT')\n",
        "\n",
        "        return possible_actions\n",
        "\n",
        "    # Returns the state resulting from taking a given action at a given state.\n",
        "    def result(self, state, action):\n",
        "        x, y = state\n",
        "\n",
        "        if action == 'UP':\n",
        "            new_state = (x - 1, y)\n",
        "        elif action == 'DOWN':\n",
        "            new_state = (x + 1, y)\n",
        "        elif action == 'LEFT':\n",
        "            new_state = (x, y - 1)\n",
        "        elif action == 'RIGHT':\n",
        "            new_state = (x, y + 1)\n",
        "\n",
        "        # Update battery level\n",
        "        self.battery_level -= 10\n",
        "        if self.battery_level <= 0:\n",
        "            # Robot must recharge before continuing\n",
        "            self.recharge_battery()\n",
        "\n",
        "        return new_state\n",
        "\n",
        "\n",
        "\n",
        "    # Recharges the battery level to 100%.\n",
        "    def recharge_battery(self):\n",
        "        self.battery_level = 100\n",
        "        self.recharge_count += 1\n",
        "\n",
        "    # Checks if the goal has been reached.\n",
        "    def is_goal(self, state):\n",
        "        return state == self.goal\n",
        "\n",
        "    # Returns the current recharge count.\n",
        "    def get_recharge_count(self):\n",
        "        return self.recharge_count"
      ],
      "metadata": {
        "id": "YwfW5yv971jX"
      },
      "execution_count": 27,
      "outputs": []
    },
    {
      "cell_type": "markdown",
      "source": [
        "***agent***"
      ],
      "metadata": {
        "id": "fEKMNXEU8SKN"
      }
    },
    {
      "cell_type": "code",
      "source": [
        "class Agent:\n",
        "    def __init__(self, env):\n",
        "        self.env = env\n",
        "\n",
        "    # Performs Uniform Cost Search to find the lowest cost path from the initial state to the goal.\n",
        "    def uniform_cost_search(self):\n",
        "        frontier = PriorityQueue()  # Priority queue for UCS.\n",
        "        frontier.put(Node(self.env.initial, path_cost=0), 0)\n",
        "        came_from = {self.env.initial: None}\n",
        "        cost_so_far = {self.env.initial: 0}\n",
        "\n",
        "        while not frontier.empty():\n",
        "            current_node = frontier.get()\n",
        "\n",
        "            if self.env.is_goal(current_node.state):\n",
        "                return self.reconstruct_path(came_from, current_node.state)\n",
        "\n",
        "            for action in self.env.actions(current_node.state):\n",
        "                new_state = self.env.result(current_node.state, action)\n",
        "                new_cost = cost_so_far[current_node.state] + 1  # Assuming uniform cost for simplicity; adjust if varying costs.\n",
        "                if new_state not in cost_so_far or new_cost < cost_so_far[new_state]:\n",
        "                    cost_so_far[new_state] = new_cost\n",
        "                    priority = new_cost\n",
        "                    frontier.put(Node(new_state, current_node, action, new_cost), priority)\n",
        "                    came_from[new_state] = current_node.state\n",
        "\n",
        "        return []\n",
        "\n",
        "\n",
        "    def a_star_search(self):\n",
        "        # The start node is created with a path cost of 0.\n",
        "        start_node = Node(self.env.initial, path_cost=0)\n",
        "        frontier = PriorityQueue()\n",
        "        frontier.put(start_node, 0)  # Priority is f-cost, initially the heuristic cost from start to goal\n",
        "        came_from = {self.env.initial: None}  # Tracks the best path to a node\n",
        "        cost_so_far = {self.env.initial: 0}  # Tracks the g-cost (cost so far to reach a node)\n",
        "\n",
        "        while not frontier.empty():\n",
        "            current_node = frontier.get()\n",
        "\n",
        "            if self.env.is_goal(current_node.state):\n",
        "                return self.reconstruct_path(came_from, current_node.state)\n",
        "\n",
        "            for action in self.env.actions(current_node.state):\n",
        "                new_state = self.env.result(current_node.state, action)\n",
        "                new_cost = cost_so_far[current_node.state] + 1  # Assuming uniform cost for simplicity\n",
        "                if new_state not in cost_so_far or new_cost < cost_so_far[new_state]:\n",
        "                    cost_so_far[new_state] = new_cost\n",
        "                    priority = new_cost + heuristic(new_state, self.env.goal)  # f-cost = g-cost + h-cost\n",
        "                    frontier.put(Node(new_state, current_node, action, new_cost), priority)\n",
        "                    came_from[new_state] = current_node.state\n",
        "\n",
        "        return []\n",
        "\n",
        "    def reconstruct_path(self, came_from, current):\n",
        "        path = []\n",
        "        while current in came_from:\n",
        "            path.append(current)\n",
        "            current = came_from[current]\n",
        "        path.append(self.env.initial)  # Start node is not in came_from\n",
        "        path.reverse()  # Reverse to get the path from start to goal\n",
        "        return path\n"
      ],
      "metadata": {
        "id": "TzhHTpXG8UAj"
      },
      "execution_count": 5,
      "outputs": []
    },
    {
      "cell_type": "markdown",
      "source": [
        "***Visualization Function plots the grid and the found path.***"
      ],
      "metadata": {
        "id": "I9mh0UOd79Dp"
      }
    },
    {
      "cell_type": "code",
      "source": [
        "# Visualization Function plots the grid and the found path.\n",
        "def visualize_grid_and_path(grid, path):\n",
        "    grid_array = np.array(grid)  # Convert grid to numpy array for easy plotting.\n",
        "    fig, ax = plt.subplots()\n",
        "    ax.imshow(grid_array, cmap='Greys', alpha=0.3)  # Grid background.\n",
        "    start = path[0]\n",
        "    goal = path[-1]\n",
        "    ax.plot(start[1], start[0], 'bs', markersize=10)  # Start position in blue.\n",
        "    ax.plot(goal[1], goal[0], 'gs', markersize=10)  # Goal position in green.\n",
        "    xs, ys = zip(*path)  # Extract X and Y coordinates of the path.\n",
        "    ax.plot(ys, xs, 'r-', linewidth=2)  # Plot the path in red.\n",
        "    ax.set_xticks(np.arange(-.5, len(grid[0]), 1), minor=True)\n",
        "    ax.set_yticks(np.arange(-.5, len(grid), 1), minor=True)\n",
        "    ax.grid(which=\"minor\", color=\"b\", linestyle='-', linewidth=1)\n",
        "    ax.tick_params(which=\"minor\", size=0)\n",
        "    ax.tick_params(which=\"major\", bottom=False, left=False, labelbottom=False, labelleft=False)\n",
        "    plt.show()\n",
        "\n",
        "\n"
      ],
      "metadata": {
        "id": "HY42fL8K7_Jb"
      },
      "execution_count": 28,
      "outputs": []
    },
    {
      "cell_type": "markdown",
      "source": [
        "***# Define the grid, start position, and goal position***"
      ],
      "metadata": {
        "id": "GtVByBhY--AF"
      }
    },
    {
      "cell_type": "code",
      "source": [
        "# Generate a Random Grid Function\n",
        "def generate_random_grid(size, obstacle_probability):\n",
        "    return np.random.choice([0, 1], size=(size, size), p=[1-obstacle_probability, obstacle_probability])\n",
        "\n",
        "# Define the size of the grid and the probability of an obstacle in each cell\n",
        "grid_size = 10\n",
        "obstacle_probability = 0.2  # 20% chance of being an obstacle\n",
        "\n",
        "# Generate a random grid\n",
        "grid = generate_random_grid(grid_size, obstacle_probability)\n",
        "\n",
        "# Define start and goal positions\n",
        "start = (0, 0)\n",
        "goal = (grid_size - 1, grid_size - 1)\n",
        "\n",
        "# Ensure start and goal are not obstacles\n",
        "grid[start] = 0\n",
        "grid[goal] = 0\n",
        "\n",
        "# Create the environment and agent for Uniform Cost Search\n",
        "environment_for_ucs = Environment(grid, start, goal)\n",
        "agent = Agent(environment_for_ucs)\n",
        "\n",
        "\n",
        "# Solve the problem with Uniform Cost Search\n",
        "solution_path_ucs = agent.uniform_cost_search()\n",
        "recharge_count_ucs = environment_for_ucs.get_recharge_count()\n",
        "print(\"UCS Solution Path:\", solution_path_ucs)\n",
        "print(\"UCS Recharge Count:\", recharge_count_ucs)\n",
        "\n",
        "\n",
        "# Create the environment and agent for A* algorithm\n",
        "environment_for_astar = Environment(grid, start, goal)\n",
        "agent = Agent(environment_for_astar)\n",
        "\n",
        "\n",
        "# Solve the problem with the A* algorithm\n",
        "solution_path_astar = agent.a_star_search()\n",
        "recharge_count_astar = environment_for_astar.get_recharge_count()\n",
        "print(\"A* Solution Path:\", solution_path_astar)\n",
        "print(\"A* Recharge Count:\", recharge_count_astar)\n",
        "\n",
        "# Compare recharge counts and determine the best algorithm\n",
        "if recharge_count_ucs < recharge_count_astar:\n",
        "    print(\"Uniform Cost Search is more efficient in terms of energy management.\")\n",
        "elif recharge_count_astar < recharge_count_ucs:\n",
        "    print(\"A* Search is more efficient in terms of energy management.\")\n",
        "else:\n",
        "    print(\"Both algorithms have the same efficiency in terms of energy management.\")\n",
        "\n",
        "\n",
        "\n",
        "\n",
        "# Visualize the solution\n",
        "visualize_grid_and_path(grid, solution_path_ucs)\n",
        "visualize_grid_and_path(grid, solution_path_astar)\n",
        "\n"
      ],
      "metadata": {
        "colab": {
          "base_uri": "https://localhost:8080/",
          "height": 902
        },
        "id": "DaQ5m6UL_CfN",
        "outputId": "ec85886f-5765-4a33-a8a2-2ea281811979"
      },
      "execution_count": 30,
      "outputs": [
        {
          "output_type": "stream",
          "name": "stdout",
          "text": [
            "UCS Solution Path: [(0, 0), (0, 0), (1, 0), (1, 1), (2, 1), (2, 2), (2, 3), (2, 4), (3, 4), (3, 5), (4, 5), (4, 6), (5, 6), (6, 6), (7, 6), (7, 7), (8, 7), (9, 7), (9, 8), (9, 9)]\n",
            "UCS Recharge Count: 25\n",
            "A* Solution Path: [(0, 0), (0, 0), (1, 0), (1, 1), (2, 1), (2, 2), (2, 3), (3, 3), (4, 3), (5, 3), (5, 4), (6, 4), (7, 4), (7, 5), (7, 6), (8, 6), (9, 6), (9, 7), (9, 8), (9, 9)]\n",
            "A* Recharge Count: 21\n",
            "A* Search is more efficient in terms of energy management.\n"
          ]
        },
        {
          "output_type": "display_data",
          "data": {
            "text/plain": [
              "<Figure size 640x480 with 1 Axes>"
            ],
            "image/png": "[encoded data removed]"
          },
          "metadata": {}
        },
        {
          "output_type": "display_data",
          "data": {
            "text/plain": [
              "<Figure size 640x480 with 1 Axes>"
            ],
            "image/png": "[encoded data removed]"
          },
          "metadata": {}
        }
      ]
    }
  ]
}